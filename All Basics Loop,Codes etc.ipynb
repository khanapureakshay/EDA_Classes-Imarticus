{
 "cells": [
  {
   "cell_type": "code",
   "execution_count": 1,
   "metadata": {},
   "outputs": [
    {
     "name": "stdout",
     "output_type": "stream",
     "text": [
      "1 2 3 4 5 6 7 8 9 10 "
     ]
    }
   ],
   "source": [
    "for i in range (1,11):\n",
    "    print(i,end=\" \") \n",
    "    "
   ]
  },
  {
   "cell_type": "code",
   "execution_count": 2,
   "metadata": {},
   "outputs": [
    {
     "name": "stdout",
     "output_type": "stream",
     "text": [
      "[1]\n",
      "[2]\n",
      "[3]\n",
      "[4]\n",
      "[5]\n",
      "[6]\n",
      "[7]\n",
      "[8]\n",
      "[9]\n",
      "[10]\n"
     ]
    }
   ],
   "source": [
    "i=0\n",
    "while i<10:\n",
    "    i=i+1\n",
    "    print([i])"
   ]
  },
  {
   "cell_type": "code",
   "execution_count": 3,
   "metadata": {},
   "outputs": [
    {
     "name": "stdout",
     "output_type": "stream",
     "text": [
      "[1, 2, 3, 4, 5, 6, 7, 8, 9, 10]\n"
     ]
    }
   ],
   "source": [
    "print([i for i in range(1,11)])"
   ]
  },
  {
   "cell_type": "code",
   "execution_count": null,
   "metadata": {},
   "outputs": [],
   "source": [
    "a=[12,12,43,53,12,43,23]\n",
    "for i in a:\n",
    "    if i!=i:\n",
    "        print(i)    "
   ]
  },
  {
   "cell_type": "code",
   "execution_count": 5,
   "metadata": {},
   "outputs": [],
   "source": [
    "a=10\n",
    "a=a+1\n",
    "while a<11:\n",
    "    a=a-1\n",
    "    print(a)\n",
    "    if a==1:\n",
    "        break"
   ]
  },
  {
   "cell_type": "code",
   "execution_count": 6,
   "metadata": {},
   "outputs": [
    {
     "name": "stdout",
     "output_type": "stream",
     "text": [
      "9\n",
      "8\n",
      "7\n",
      "6\n",
      "5\n",
      "4\n",
      "3\n",
      "2\n",
      "1\n",
      "This is all my Dear\n"
     ]
    }
   ],
   "source": [
    "a=9\n",
    "a=a+1\n",
    "while a<a+2:\n",
    "    a=a-1\n",
    "    print(a)\n",
    "    if a==1:\n",
    "        break\n",
    "        \n",
    "print(\"This is all my Dear\")"
   ]
  },
  {
   "cell_type": "code",
   "execution_count": 7,
   "metadata": {},
   "outputs": [
    {
     "name": "stdout",
     "output_type": "stream",
     "text": [
      "10\n",
      "9\n",
      "8\n",
      "7\n",
      "6\n",
      "5\n",
      "4\n",
      "3\n",
      "2\n",
      "1\n"
     ]
    }
   ],
   "source": [
    "a=10\n",
    "while a>=1:\n",
    "    print(a)\n",
    "    a=a-1"
   ]
  },
  {
   "cell_type": "code",
   "execution_count": 8,
   "metadata": {},
   "outputs": [
    {
     "name": "stdout",
     "output_type": "stream",
     "text": [
      "10,9,8,7,6,5,4,3,2,1,"
     ]
    }
   ],
   "source": [
    "for i in range (10,0,-1):\n",
    "    print(i,end=\",\")"
   ]
  },
  {
   "cell_type": "markdown",
   "metadata": {},
   "source": [
    "* Non repeatative Element in List"
   ]
  },
  {
   "cell_type": "code",
   "execution_count": null,
   "metadata": {},
   "outputs": [],
   "source": [
    "## a=[1,2,4,1,3,4]\n",
    "b=[]\n",
    "for i in a:\n",
    "    if i not in b:\n",
    "        b.append(i)\n",
    "print(b)"
   ]
  },
  {
   "cell_type": "code",
   "execution_count": 10,
   "metadata": {},
   "outputs": [
    {
     "name": "stdout",
     "output_type": "stream",
     "text": [
      "[1, 12, 332, 23, 44]\n"
     ]
    }
   ],
   "source": [
    "a=[1,12,332,12,23,12,44,332]\n",
    "b=[]\n",
    "for i in a:\n",
    "    if i not in b:\n",
    "        b.append(i)\n",
    "print(b)"
   ]
  },
  {
   "cell_type": "code",
   "execution_count": 2,
   "metadata": {
    "scrolled": true
   },
   "outputs": [
    {
     "name": "stdout",
     "output_type": "stream",
     "text": [
      "How many Numbers10\n",
      "Enter Number = 3\n",
      "Enter Number = 2\n",
      "Enter Number = 1\n"
     ]
    },
    {
     "ename": "KeyboardInterrupt",
     "evalue": "Interrupted by user",
     "output_type": "error",
     "traceback": [
      "\u001b[1;31m---------------------------------------------------------------------------\u001b[0m",
      "\u001b[1;31mKeyboardInterrupt\u001b[0m                         Traceback (most recent call last)",
      "\u001b[1;32m<ipython-input-2-0f949ae5308e>\u001b[0m in \u001b[0;36m<module>\u001b[1;34m\u001b[0m\n\u001b[0;32m      3\u001b[0m \u001b[0mn\u001b[0m\u001b[1;33m=\u001b[0m\u001b[0mint\u001b[0m\u001b[1;33m(\u001b[0m\u001b[0minput\u001b[0m\u001b[1;33m(\u001b[0m\u001b[1;34m\"How many Numbers\"\u001b[0m\u001b[1;33m)\u001b[0m\u001b[1;33m)\u001b[0m\u001b[1;33m\u001b[0m\u001b[1;33m\u001b[0m\u001b[0m\n\u001b[0;32m      4\u001b[0m \u001b[1;32mfor\u001b[0m \u001b[0mi\u001b[0m \u001b[1;32min\u001b[0m \u001b[0mrange\u001b[0m\u001b[1;33m(\u001b[0m\u001b[0mn\u001b[0m\u001b[1;33m)\u001b[0m\u001b[1;33m:\u001b[0m\u001b[1;33m\u001b[0m\u001b[1;33m\u001b[0m\u001b[0m\n\u001b[1;32m----> 5\u001b[1;33m     \u001b[0mb\u001b[0m\u001b[1;33m=\u001b[0m\u001b[0mint\u001b[0m\u001b[1;33m(\u001b[0m\u001b[0minput\u001b[0m\u001b[1;33m(\u001b[0m\u001b[1;34m\"Enter Number = \"\u001b[0m\u001b[1;33m)\u001b[0m\u001b[1;33m)\u001b[0m\u001b[1;33m\u001b[0m\u001b[1;33m\u001b[0m\u001b[0m\n\u001b[0m\u001b[0;32m      6\u001b[0m     \u001b[1;32mif\u001b[0m \u001b[0mb\u001b[0m \u001b[1;32mnot\u001b[0m \u001b[1;32min\u001b[0m \u001b[0ma\u001b[0m\u001b[1;33m:\u001b[0m\u001b[1;33m\u001b[0m\u001b[1;33m\u001b[0m\u001b[0m\n\u001b[0;32m      7\u001b[0m         \u001b[0ma\u001b[0m\u001b[1;33m.\u001b[0m\u001b[0mappend\u001b[0m\u001b[1;33m(\u001b[0m\u001b[0mb\u001b[0m\u001b[1;33m)\u001b[0m\u001b[1;33m\u001b[0m\u001b[1;33m\u001b[0m\u001b[0m\n",
      "\u001b[1;32mD:\\Installation\\Anaconda\\lib\\site-packages\\ipykernel\\kernelbase.py\u001b[0m in \u001b[0;36mraw_input\u001b[1;34m(self, prompt)\u001b[0m\n\u001b[0;32m    858\u001b[0m                 \u001b[1;34m\"raw_input was called, but this frontend does not support input requests.\"\u001b[0m\u001b[1;33m\u001b[0m\u001b[1;33m\u001b[0m\u001b[0m\n\u001b[0;32m    859\u001b[0m             )\n\u001b[1;32m--> 860\u001b[1;33m         return self._input_request(str(prompt),\n\u001b[0m\u001b[0;32m    861\u001b[0m             \u001b[0mself\u001b[0m\u001b[1;33m.\u001b[0m\u001b[0m_parent_ident\u001b[0m\u001b[1;33m,\u001b[0m\u001b[1;33m\u001b[0m\u001b[1;33m\u001b[0m\u001b[0m\n\u001b[0;32m    862\u001b[0m             \u001b[0mself\u001b[0m\u001b[1;33m.\u001b[0m\u001b[0m_parent_header\u001b[0m\u001b[1;33m,\u001b[0m\u001b[1;33m\u001b[0m\u001b[1;33m\u001b[0m\u001b[0m\n",
      "\u001b[1;32mD:\\Installation\\Anaconda\\lib\\site-packages\\ipykernel\\kernelbase.py\u001b[0m in \u001b[0;36m_input_request\u001b[1;34m(self, prompt, ident, parent, password)\u001b[0m\n\u001b[0;32m    902\u001b[0m             \u001b[1;32mexcept\u001b[0m \u001b[0mKeyboardInterrupt\u001b[0m\u001b[1;33m:\u001b[0m\u001b[1;33m\u001b[0m\u001b[1;33m\u001b[0m\u001b[0m\n\u001b[0;32m    903\u001b[0m                 \u001b[1;31m# re-raise KeyboardInterrupt, to truncate traceback\u001b[0m\u001b[1;33m\u001b[0m\u001b[1;33m\u001b[0m\u001b[1;33m\u001b[0m\u001b[0m\n\u001b[1;32m--> 904\u001b[1;33m                 \u001b[1;32mraise\u001b[0m \u001b[0mKeyboardInterrupt\u001b[0m\u001b[1;33m(\u001b[0m\u001b[1;34m\"Interrupted by user\"\u001b[0m\u001b[1;33m)\u001b[0m \u001b[1;32mfrom\u001b[0m \u001b[1;32mNone\u001b[0m\u001b[1;33m\u001b[0m\u001b[1;33m\u001b[0m\u001b[0m\n\u001b[0m\u001b[0;32m    905\u001b[0m             \u001b[1;32mexcept\u001b[0m \u001b[0mException\u001b[0m \u001b[1;32mas\u001b[0m \u001b[0me\u001b[0m\u001b[1;33m:\u001b[0m\u001b[1;33m\u001b[0m\u001b[1;33m\u001b[0m\u001b[0m\n\u001b[0;32m    906\u001b[0m                 \u001b[0mself\u001b[0m\u001b[1;33m.\u001b[0m\u001b[0mlog\u001b[0m\u001b[1;33m.\u001b[0m\u001b[0mwarning\u001b[0m\u001b[1;33m(\u001b[0m\u001b[1;34m\"Invalid Message:\"\u001b[0m\u001b[1;33m,\u001b[0m \u001b[0mexc_info\u001b[0m\u001b[1;33m=\u001b[0m\u001b[1;32mTrue\u001b[0m\u001b[1;33m)\u001b[0m\u001b[1;33m\u001b[0m\u001b[1;33m\u001b[0m\u001b[0m\n",
      "\u001b[1;31mKeyboardInterrupt\u001b[0m: Interrupted by user"
     ]
    }
   ],
   "source": [
    "# take input from user\n",
    "a=[]\n",
    "n=int(input(\"How many Numbers\"))\n",
    "for i in range(n):\n",
    "    b=int(input(\"Enter Number = \"))\n",
    "    if b not in a:\n",
    "        a.append(b) \n",
    "    if len(a)==n:\n",
    "        break\n",
    "print(a)"
   ]
  },
  {
   "cell_type": "code",
   "execution_count": 15,
   "metadata": {},
   "outputs": [
    {
     "name": "stdin",
     "output_type": "stream",
     "text": [
      "Enter Nos 1\n",
      "Enter Nos 1\n",
      "Enter Nos 3\n"
     ]
    },
    {
     "name": "stdout",
     "output_type": "stream",
     "text": [
      "[1, 1, 3]\n",
      "[1, 3]\n",
      "{1, 3}\n"
     ]
    }
   ],
   "source": [
    " names=[]\n",
    "n=3\n",
    "for i in range(n):\n",
    "    b=int(input(\"Enter Nos\"))\n",
    "    names.append(b)\n",
    "print(names)\n",
    "s=set(names)\n",
    "a=list(s)\n",
    "print(a)\n",
    "print(s)"
   ]
  },
  {
   "cell_type": "code",
   "execution_count": 3,
   "metadata": {},
   "outputs": [
    {
     "data": {
      "text/plain": [
       "[100, 32, 2, 23, 23]"
      ]
     },
     "execution_count": 3,
     "metadata": {},
     "output_type": "execute_result"
    }
   ],
   "source": [
    "a=[23,23,2,32,100]\n",
    "a[::-1]"
   ]
  },
  {
   "cell_type": "code",
   "execution_count": 16,
   "metadata": {},
   "outputs": [
    {
     "name": "stdout",
     "output_type": "stream",
     "text": [
      "[12, 222, 34, 12, 34, 12, 34, 23, 12]\n"
     ]
    }
   ],
   "source": [
    "a=(12,23,34,12,34,12,34,222,12)\n",
    "print(list(a[::-1]))"
   ]
  },
  {
   "cell_type": "code",
   "execution_count": 4,
   "metadata": {},
   "outputs": [
    {
     "name": "stdout",
     "output_type": "stream",
     "text": [
      "Give me with ,,,,12,1,232,1,1,(1,2,3)\n",
      "(12, 1, 232, 1, 1, (1, 2, 3))\n",
      "[(1, 2, 3), 1, 1, 232, 1, 12]\n",
      "((1, 2, 3), 1, 1, 232, 1, 12)\n"
     ]
    }
   ],
   "source": [
    "a=eval(input(\"Give me with ,,,,\"))\n",
    "print(a)\n",
    "b=list(a)\n",
    "b.reverse()\n",
    "print(b)\n",
    "t=tuple(b)\n",
    "print(t)"
   ]
  },
  {
   "cell_type": "code",
   "execution_count": 7,
   "metadata": {},
   "outputs": [
    {
     "name": "stdout",
     "output_type": "stream",
     "text": [
      "(1,2,4,32,2,[2])\n"
     ]
    },
    {
     "data": {
      "text/plain": [
       "(1, 2, 4, 32, 2, [2])"
      ]
     },
     "execution_count": 7,
     "metadata": {},
     "output_type": "execute_result"
    }
   ],
   "source": [
    "eval(input())"
   ]
  },
  {
   "cell_type": "code",
   "execution_count": 17,
   "metadata": {},
   "outputs": [
    {
     "name": "stdin",
     "output_type": "stream",
     "text": [
      "Give me with ,,,, 12,12,23,12,2,23,45\n"
     ]
    },
    {
     "name": "stdout",
     "output_type": "stream",
     "text": [
      "(12, 12, 23, 12, 2, 23, 45)\n",
      "[45, 23, 2, 12, 23, 12, 12]\n",
      "(45, 23, 2, 12, 23, 12, 12)\n"
     ]
    }
   ],
   "source": [
    "a=eval(input(\"Give me with ,,,,\"))\n",
    "print(a)\n",
    "b=list(a)\n",
    "b.reverse()\n",
    "print(b)\n",
    "t=tuple(b)\n",
    "print(t)"
   ]
  },
  {
   "cell_type": "code",
   "execution_count": 9,
   "metadata": {},
   "outputs": [
    {
     "name": "stdout",
     "output_type": "stream",
     "text": [
      "0\n",
      "1\n",
      "2\n",
      "3\n",
      "4\n"
     ]
    }
   ],
   "source": [
    "a=[1,2,3,4,5]\n",
    "for i in a:\n",
    "    b=a.index(i)\n",
    "    print(b)"
   ]
  },
  {
   "cell_type": "code",
   "execution_count": 12,
   "metadata": {},
   "outputs": [
    {
     "name": "stdout",
     "output_type": "stream",
     "text": [
      "Enter Numbers how many?1\n",
      "Numbers = 2\n",
      "[2]\n",
      "Enter which index you want3\n",
      "[0]\n"
     ]
    }
   ],
   "source": [
    "a=[]\n",
    "n=int(input(\"Enter Numbers how many?\"))\n",
    "for i in range(n):\n",
    "        b=int(input(\"Numbers = \"))\n",
    "        a.append(b)\n",
    "print(a)\n",
    "b=[]\n",
    "p=int(input(\"Enter which index you want\"))\n",
    "for p in a:\n",
    "    k=a.index(p)\n",
    "    b.append(k)\n",
    "print(b)\n"
   ]
  },
  {
   "cell_type": "code",
   "execution_count": 17,
   "metadata": {},
   "outputs": [
    {
     "name": "stdout",
     "output_type": "stream",
     "text": [
      "4\n"
     ]
    }
   ],
   "source": [
    "a=[1,2,3,3,0]\n",
    "if 3 in a:\n",
    "    b=a.index(i)\n",
    "    print(b)"
   ]
  },
  {
   "cell_type": "markdown",
   "metadata": {},
   "source": [
    "* Prime nos in list"
   ]
  },
  {
   "cell_type": "code",
   "execution_count": null,
   "metadata": {},
   "outputs": [],
   "source": [
    "a=int(input(\"Enter nos till which Prime number you want\"))\n",
    "for i in range(2,a):\n",
    "    for j in range(2,a):"
   ]
  },
  {
   "cell_type": "code",
   "execution_count": 3,
   "metadata": {},
   "outputs": [
    {
     "name": "stdout",
     "output_type": "stream",
     "text": [
      "Prime 53\n"
     ]
    }
   ],
   "source": [
    "no=53\n",
    "for i in range (2,no):\n",
    "    if no%i==0:\n",
    "        print(\"Not Prime\",no)\n",
    "        break\n",
    "if no%i!=0:\n",
    "        print(\"Prime\",no)\n",
    "        "
   ]
  },
  {
   "cell_type": "code",
   "execution_count": 18,
   "metadata": {},
   "outputs": [
    {
     "name": "stdout",
     "output_type": "stream",
     "text": [
      "2\n",
      "3\n",
      "5\n",
      "7\n"
     ]
    }
   ],
   "source": [
    "for i in range(2,11):\n",
    "    for j in range(2,i):\n",
    "        if i%j==0:\n",
    "            break\n",
    "    else: \n",
    "            print(i)"
   ]
  },
  {
   "cell_type": "code",
   "execution_count": 38,
   "metadata": {},
   "outputs": [
    {
     "name": "stdout",
     "output_type": "stream",
     "text": [
      "1\n",
      "3\n",
      "5\n"
     ]
    }
   ],
   "source": [
    "for i in range(1,20,2):\n",
    "    if i>6:\n",
    "        break\n",
    "    else:\n",
    "        print(i)"
   ]
  },
  {
   "cell_type": "code",
   "execution_count": 43,
   "metadata": {},
   "outputs": [
    {
     "name": "stdout",
     "output_type": "stream",
     "text": [
      "1\n",
      "2\n",
      "3\n",
      "4\n",
      "Not Yet 5\n",
      "6\n",
      "7\n",
      "8\n",
      "9\n"
     ]
    }
   ],
   "source": [
    "for i in range(1,10):\n",
    "    if i==5:\n",
    "        continue \n",
    "    print(i)"
   ]
  },
  {
   "cell_type": "code",
   "execution_count": 20,
   "metadata": {},
   "outputs": [
    {
     "name": "stdout",
     "output_type": "stream",
     "text": [
      "5\n",
      "7\n",
      "11\n",
      "13\n",
      "17\n",
      "19\n"
     ]
    }
   ],
   "source": [
    "for i in range(5,20):\n",
    "    for j in range(2,i):\n",
    "        if i%j==0:\n",
    "            break\n",
    "        else:\n",
    "            print(i)"
   ]
  },
  {
   "cell_type": "code",
   "execution_count": 22,
   "metadata": {},
   "outputs": [
    {
     "name": "stdout",
     "output_type": "stream",
     "text": [
      "Prime 2\n",
      "Prime 3\n",
      "Not prime 4\n",
      "Prime 4\n",
      "Prime 5\n",
      "Not prime 6\n",
      "Not prime 6\n",
      "Prime 6\n",
      "Prime 7\n",
      "Not prime 8\n",
      "Not prime 8\n",
      "Prime 8\n",
      "Not prime 9\n",
      "Prime 9\n"
     ]
    }
   ],
   "source": [
    "for i in range (2,n):\n",
    "    for j in range(2,i):\n",
    "        if i%j==0:\n",
    "            print(\"Not prime\",i)\n",
    "    else:\n",
    "            print(\"Prime\",i)"
   ]
  },
  {
   "cell_type": "code",
   "execution_count": 9,
   "metadata": {},
   "outputs": [],
   "source": [
    "n=10\n",
    "for i in range(2,n):\n",
    "    for j in range(1,n):\n",
    "        if i%j==0:\n",
    "            break\n",
    "        else:\n",
    "            print(i)"
   ]
  },
  {
   "cell_type": "code",
   "execution_count": 145,
   "metadata": {},
   "outputs": [],
   "source": [
    "n=17\n",
    "for i in range(2,n):\n",
    "    for j in range(2,n):\n",
    "        if i%j==0:\n",
    "            break\n",
    "    else:\n",
    "         print(i)"
   ]
  },
  {
   "cell_type": "code",
   "execution_count": 47,
   "metadata": {},
   "outputs": [],
   "source": [
    "# Next prime Number\n",
    "def nextprime(N):\n",
    "    for i in range(2,N):\n",
    "        if N%i==0:\n",
    "            break\n",
    "        else:\n",
    "            print(\"Prime\",N)\n",
    "        \n",
    "    "
   ]
  },
  {
   "cell_type": "code",
   "execution_count": 57,
   "metadata": {},
   "outputs": [],
   "source": [
    "nextprime(10)"
   ]
  },
  {
   "cell_type": "code",
   "execution_count": 53,
   "metadata": {},
   "outputs": [],
   "source": [
    "def Name(what):\n",
    "    print(\"My\",what,\"Akshay\")"
   ]
  },
  {
   "cell_type": "code",
   "execution_count": 55,
   "metadata": {},
   "outputs": [
    {
     "name": "stdout",
     "output_type": "stream",
     "text": [
      "My a Akshay\n"
     ]
    }
   ],
   "source": [
    "Name(\"a\")"
   ]
  },
  {
   "cell_type": "code",
   "execution_count": 69,
   "metadata": {},
   "outputs": [],
   "source": [
    "def Primeornot(N):\n",
    "    for i in range(2,N):\n",
    "        if N%i!=0:\n",
    "            print(\"Prime\",N)\n",
    "            \n",
    "        elif N%i==0:\n",
    "            print(\"Not Prime\")"
   ]
  },
  {
   "cell_type": "code",
   "execution_count": 70,
   "metadata": {},
   "outputs": [
    {
     "name": "stdout",
     "output_type": "stream",
     "text": [
      "Not Prime\n",
      "Prime 10\n",
      "Prime 10\n",
      "Not Prime\n",
      "Prime 10\n",
      "Prime 10\n",
      "Prime 10\n",
      "Prime 10\n"
     ]
    }
   ],
   "source": [
    "Primeornot(10)"
   ]
  },
  {
   "cell_type": "code",
   "execution_count": 83,
   "metadata": {},
   "outputs": [
    {
     "name": "stdout",
     "output_type": "stream",
     "text": [
      "Not Prime\n"
     ]
    }
   ],
   "source": [
    "a=57\n",
    "for i in range(2,11):\n",
    "    if a%i==0:\n",
    "        print(\"Not Prime\")\n",
    "        break\n",
    "else:\n",
    "     print(\"Prime\",a)"
   ]
  },
  {
   "cell_type": "code",
   "execution_count": 89,
   "metadata": {},
   "outputs": [],
   "source": [
    "def primenot(N):\n",
    "    for i in range(2,N):\n",
    "        if N%i==0:\n",
    "            print(\"Not Prime\",N)\n",
    "            break\n",
    "    else:\n",
    "        print(\"Prime\",N)"
   ]
  },
  {
   "cell_type": "code",
   "execution_count": 90,
   "metadata": {},
   "outputs": [
    {
     "name": "stdout",
     "output_type": "stream",
     "text": [
      "Prime 13\n"
     ]
    }
   ],
   "source": [
    "primenot(13)"
   ]
  },
  {
   "cell_type": "code",
   "execution_count": null,
   "metadata": {},
   "outputs": [],
   "source": [
    "for i in range (2,n):\n",
    "    for j in range(2,i):\n",
    "        if i%j==0:\n",
    "            print(\"Not prime\",i)\n",
    "    else:\n",
    "            print(\"Prime\",i)"
   ]
  },
  {
   "cell_type": "code",
   "execution_count": 126,
   "metadata": {},
   "outputs": [],
   "source": [
    "def nextprime(N):\n",
    "    for i in range(N+1,10):\n",
    "        for j in range(2,i):\n",
    "            if i%j!=0:\n",
    "                print(\"Prime\",i)\n",
    "                continue\n",
    "               "
   ]
  },
  {
   "cell_type": "code",
   "execution_count": 127,
   "metadata": {},
   "outputs": [
    {
     "name": "stdout",
     "output_type": "stream",
     "text": [
      "Prime 7\n",
      "Prime 7\n",
      "Prime 7\n",
      "Prime 7\n",
      "Prime 7\n",
      "Prime 8\n",
      "Prime 8\n",
      "Prime 8\n",
      "Prime 8\n",
      "Prime 9\n",
      "Prime 9\n",
      "Prime 9\n",
      "Prime 9\n",
      "Prime 9\n",
      "Prime 9\n"
     ]
    }
   ],
   "source": [
    "nextprime(6)"
   ]
  },
  {
   "cell_type": "code",
   "execution_count": null,
   "metadata": {},
   "outputs": [],
   "source": [
    "for i in range(10,15):\n",
    "    for j in range(2,i):\n",
    "        if i%j==0:\n",
    "            print(\"Not Prime\",i)\n",
    "            break\n",
    "    else:\n",
    "            print(\"Prime\",i)\n",
    "            break"
   ]
  },
  {
   "cell_type": "code",
   "execution_count": 148,
   "metadata": {},
   "outputs": [],
   "source": [
    "def NEXTPRIME(b):\n",
    "    for a in range(b+1,100):\n",
    "        for i in range(2,a):\n",
    "            if a%i==0:          \n",
    "                break\n",
    "        else:\n",
    "            print(\"Prime\",a)\n",
    "            break"
   ]
  },
  {
   "cell_type": "code",
   "execution_count": 150,
   "metadata": {},
   "outputs": [
    {
     "name": "stdout",
     "output_type": "stream",
     "text": [
      "Prime 37\n"
     ]
    }
   ],
   "source": [
    "NEXTPRIME(31)"
   ]
  },
  {
   "cell_type": "code",
   "execution_count": 7,
   "metadata": {},
   "outputs": [
    {
     "name": "stdout",
     "output_type": "stream",
     "text": [
      " Prime 23\n"
     ]
    }
   ],
   "source": [
    "b=19\n",
    "for a in range(b+1,100):\n",
    "    for i in range(2,a):\n",
    "        if a%i==0:\n",
    "            \n",
    "            break\n",
    "    else:\n",
    "            print(\" Prime\",a)\n",
    "            break\n",
    "        "
   ]
  },
  {
   "cell_type": "code",
   "execution_count": 13,
   "metadata": {},
   "outputs": [
    {
     "name": "stdout",
     "output_type": "stream",
     "text": [
      "17\n"
     ]
    }
   ],
   "source": [
    "n=15\n",
    "while True:            # Sometimes if we want to continue our loop upper limit is NOT KNOWN then use WHILE = True\n",
    "    n=n+1\n",
    "    for i in range(2,n):\n",
    "        if n%i==0:\n",
    "            break\n",
    "    else:\n",
    "        print(n)\n",
    "        break"
   ]
  },
  {
   "cell_type": "code",
   "execution_count": 14,
   "metadata": {},
   "outputs": [
    {
     "name": "stdout",
     "output_type": "stream",
     "text": [
      "1\n",
      "2\n",
      "3\n",
      "5\n",
      "7\n"
     ]
    }
   ],
   "source": [
    "m=10\n",
    "for n in range(1,m):\n",
    "    for i in range(2,n):\n",
    "        if n%i==0:\n",
    "            break\n",
    "    else:\n",
    "        print(n)"
   ]
  },
  {
   "cell_type": "markdown",
   "metadata": {},
   "source": [
    "* Prime List till"
   ]
  },
  {
   "cell_type": "code",
   "execution_count": 59,
   "metadata": {},
   "outputs": [
    {
     "name": "stdin",
     "output_type": "stream",
     "text": [
      "How many? 20\n"
     ]
    },
    {
     "name": "stdout",
     "output_type": "stream",
     "text": [
      "[2, 3, 5, 7, 11, 13, 17, 19, 23, 29, 31, 37, 41, 43, 47, 53, 59, 61, 67, 71]\n"
     ]
    },
    {
     "data": {
      "text/plain": [
       "20"
      ]
     },
     "execution_count": 59,
     "metadata": {},
     "output_type": "execute_result"
    }
   ],
   "source": [
    "prime_num=[]\n",
    "n=2\n",
    "j=int(input(\"How many?\"))\n",
    "n=1\n",
    "\n",
    "while True: \n",
    "    # Sometimes if we want to continue our loop upper limit is NOT KNOWN then use WHILE = True\n",
    "    n=n+1\n",
    "    for i in range(2,n):\n",
    "        if n%i==0:\n",
    "            break\n",
    "    else:\n",
    "        prime_num.append(n)\n",
    "        if len(prime_num)==j:\n",
    "            break        \n",
    "print(prime_num)\n",
    "len(prime_num)"
   ]
  },
  {
   "cell_type": "code",
   "execution_count": 58,
   "metadata": {},
   "outputs": [
    {
     "name": "stdout",
     "output_type": "stream",
     "text": [
      "[2, 4, 6, 10, 12]\n"
     ]
    }
   ],
   "source": [
    "prime_num=[]\n",
    "n=2\n",
    "while True:\n",
    "    \n",
    "    n=n+1\n",
    "    for i in range(2,n):\n",
    "        if n%i==0:\n",
    "            break\n",
    "    else:\n",
    "        prime_num.append(i)\n",
    "        if len(prime_num)==5:\n",
    "            break\n",
    "print(prime_num)"
   ]
  },
  {
   "cell_type": "markdown",
   "metadata": {},
   "source": [
    "* Factorial of Number"
   ]
  },
  {
   "cell_type": "code",
   "execution_count": 62,
   "metadata": {},
   "outputs": [
    {
     "name": "stdout",
     "output_type": "stream",
     "text": [
      "120\n"
     ]
    }
   ],
   "source": [
    "a=5\n",
    "fact=1\n",
    "for i in range(1,a+1):\n",
    "    fact=fact*i\n",
    "print(fact)"
   ]
  },
  {
   "cell_type": "code",
   "execution_count": 82,
   "metadata": {},
   "outputs": [
    {
     "name": "stdout",
     "output_type": "stream",
     "text": [
      "['My', 'Name', 'is', 'akshay', 'is', 'Name']\n",
      "['My', 'Name', 'is', 'akshay']\n"
     ]
    }
   ],
   "source": [
    "a=\"My Name is akshay is Name \"\n",
    "b=a.split()\n",
    "print(b)\n",
    "c=[]\n",
    "for i  in b:\n",
    "    if i not in c:\n",
    "        c.append(i)\n",
    "print(c)"
   ]
  },
  {
   "cell_type": "code",
   "execution_count": 83,
   "metadata": {},
   "outputs": [
    {
     "data": {
      "text/plain": [
       "['aabaabbbaddddssss']"
      ]
     },
     "execution_count": 83,
     "metadata": {},
     "output_type": "execute_result"
    }
   ],
   "source": [
    "a=\"aabaabbbaddddssss\"\n",
    "c=a.split()\n",
    "c"
   ]
  },
  {
   "cell_type": "code",
   "execution_count": 4,
   "metadata": {},
   "outputs": [
    {
     "name": "stdin",
     "output_type": "stream",
     "text": [
      "enter Radius= 4\n"
     ]
    },
    {
     "name": "stdout",
     "output_type": "stream",
     "text": [
      "Area of Circle 50.24\n"
     ]
    }
   ],
   "source": [
    "\n",
    "print(\"Area of Circle\",3.14*int(input(\"enter Radius=\"))**2)"
   ]
  },
  {
   "cell_type": "code",
   "execution_count": 11,
   "metadata": {},
   "outputs": [
    {
     "name": "stdin",
     "output_type": "stream",
     "text": [
      "Enter Number =  5\n"
     ]
    },
    {
     "name": "stdout",
     "output_type": "stream",
     "text": [
      "55\n"
     ]
    }
   ],
   "source": [
    "# First N Numbers Squares sum\n",
    "\n",
    "a,j=1,0\n",
    "N=int(input(\"Enter Number = \"))\n",
    "for i in range(1,N+1):\n",
    "    i=i**2\n",
    "    j=j+i\n",
    "print(j)\n"
   ]
  },
  {
   "cell_type": "code",
   "execution_count": 15,
   "metadata": {},
   "outputs": [],
   "source": [
    "def recrsive(N):\n",
    "    a,j=1,0\n",
    "    \n",
    "    for i in range(1,N+1):\n",
    "        i=i**2\n",
    "        j=j+i\n",
    "    print(j)"
   ]
  },
  {
   "cell_type": "code",
   "execution_count": 16,
   "metadata": {},
   "outputs": [
    {
     "name": "stdout",
     "output_type": "stream",
     "text": [
      "55\n"
     ]
    }
   ],
   "source": [
    "recrsive(5)"
   ]
  },
  {
   "cell_type": "code",
   "execution_count": 19,
   "metadata": {},
   "outputs": [],
   "source": [
    "def sum(n):\n",
    "    if n==1:\n",
    "        return(n)\n",
    "    return n**2+sum(n-1)"
   ]
  },
  {
   "cell_type": "code",
   "execution_count": 20,
   "metadata": {},
   "outputs": [
    {
     "data": {
      "text/plain": [
       "55"
      ]
     },
     "execution_count": 20,
     "metadata": {},
     "output_type": "execute_result"
    }
   ],
   "source": [
    "sum(5)"
   ]
  },
  {
   "cell_type": "code",
   "execution_count": 25,
   "metadata": {},
   "outputs": [
    {
     "name": "stdout",
     "output_type": "stream",
     "text": [
      "hK yahska\n"
     ]
    }
   ],
   "source": [
    "s=\"akshay Kh\"\n",
    "print(s[::-1])"
   ]
  },
  {
   "cell_type": "code",
   "execution_count": 26,
   "metadata": {},
   "outputs": [
    {
     "data": {
      "text/plain": [
       "'akshay Kh'"
      ]
     },
     "execution_count": 26,
     "metadata": {},
     "output_type": "execute_result"
    }
   ],
   "source": [
    "s"
   ]
  },
  {
   "cell_type": "code",
   "execution_count": 51,
   "metadata": {},
   "outputs": [
    {
     "data": {
      "text/plain": [
       "'Kh akshay'"
      ]
     },
     "execution_count": 51,
     "metadata": {},
     "output_type": "execute_result"
    }
   ],
   "source": [
    "c=s.split()\n",
    "\n",
    "p=\" \".join( reversed(c))\n",
    "p"
   ]
  },
  {
   "cell_type": "code",
   "execution_count": 35,
   "metadata": {},
   "outputs": [
    {
     "name": "stdout",
     "output_type": "stream",
     "text": [
      "None\n"
     ]
    }
   ],
   "source": [
    "a=c.reverse()\n",
    "print(a)"
   ]
  },
  {
   "cell_type": "code",
   "execution_count": 55,
   "metadata": {},
   "outputs": [
    {
     "name": "stdin",
     "output_type": "stream",
     "text": [
      "Multiplication Table of = 16\n"
     ]
    },
    {
     "name": "stdout",
     "output_type": "stream",
     "text": [
      "16 * 1 = 16\n",
      "16 * 2 = 32\n",
      "16 * 3 = 48\n",
      "16 * 4 = 64\n",
      "16 * 5 = 80\n",
      "16 * 6 = 96\n",
      "16 * 7 = 112\n",
      "16 * 8 = 128\n",
      "16 * 9 = 144\n",
      "16 * 10 = 160\n"
     ]
    }
   ],
   "source": [
    "n=int(input(\"Multiplication Table of =\"))\n",
    "\n",
    "for i in range(1,11):\n",
    "    print(n,\"*\",i,\"=\",n*i)"
   ]
  },
  {
   "cell_type": "code",
   "execution_count": 7,
   "metadata": {},
   "outputs": [
    {
     "name": "stdout",
     "output_type": "stream",
     "text": [
      "Akshay 1\n"
     ]
    }
   ],
   "source": [
    "i=0\n",
    "def name():\n",
    "    global i\n",
    "    i=i+1\n",
    "    print(\"Akshay\",i)\n",
    "    \n",
    "name()\n"
   ]
  },
  {
   "cell_type": "code",
   "execution_count": 11,
   "metadata": {},
   "outputs": [
    {
     "name": "stdout",
     "output_type": "stream",
     "text": [
      "3000\n",
      "200\n"
     ]
    }
   ],
   "source": [
    "import sys\n",
    "print(sys.getrecursionlimit())\n",
    "sys.setrecursionlimit(200)\n",
    "print(sys.getrecursionlimit())"
   ]
  },
  {
   "cell_type": "code",
   "execution_count": 17,
   "metadata": {},
   "outputs": [],
   "source": [
    "# Square Sum?\n",
    "p=0\n",
    "def sumsquare(N):\n",
    "    s=N**2\n",
    "    global p\n",
    "    p=p+s\n",
    "    print(p)"
   ]
  },
  {
   "cell_type": "code",
   "execution_count": 18,
   "metadata": {},
   "outputs": [
    {
     "name": "stdout",
     "output_type": "stream",
     "text": [
      "16\n"
     ]
    }
   ],
   "source": [
    "sumsquare(4)"
   ]
  },
  {
   "cell_type": "code",
   "execution_count": 27,
   "metadata": {},
   "outputs": [],
   "source": [
    "def sumsq(N):\n",
    "    if N==1:\n",
    "        print(\"Finish\")\n",
    "    else:\n",
    "        return N**2 + sumsq(N-1)"
   ]
  },
  {
   "cell_type": "code",
   "execution_count": 26,
   "metadata": {},
   "outputs": [
    {
     "name": "stdout",
     "output_type": "stream",
     "text": [
      "Finish\n"
     ]
    },
    {
     "ename": "TypeError",
     "evalue": "unsupported operand type(s) for +: 'int' and 'NoneType'",
     "output_type": "error",
     "traceback": [
      "\u001b[1;31m---------------------------------------------------------------------------\u001b[0m",
      "\u001b[1;31mTypeError\u001b[0m                                 Traceback (most recent call last)",
      "\u001b[1;32m<ipython-input-26-04aafdc8a779>\u001b[0m in \u001b[0;36m<module>\u001b[1;34m\u001b[0m\n\u001b[1;32m----> 1\u001b[1;33m \u001b[0msumsq\u001b[0m\u001b[1;33m(\u001b[0m\u001b[1;36m3\u001b[0m\u001b[1;33m)\u001b[0m\u001b[1;33m\u001b[0m\u001b[1;33m\u001b[0m\u001b[0m\n\u001b[0m",
      "\u001b[1;32m<ipython-input-25-0346f5e8529f>\u001b[0m in \u001b[0;36msumsq\u001b[1;34m(N)\u001b[0m\n\u001b[0;32m      3\u001b[0m         \u001b[0mprint\u001b[0m\u001b[1;33m(\u001b[0m\u001b[1;34m\"Finish\"\u001b[0m\u001b[1;33m)\u001b[0m\u001b[1;33m\u001b[0m\u001b[1;33m\u001b[0m\u001b[0m\n\u001b[0;32m      4\u001b[0m     \u001b[1;32melse\u001b[0m\u001b[1;33m:\u001b[0m\u001b[1;33m\u001b[0m\u001b[1;33m\u001b[0m\u001b[0m\n\u001b[1;32m----> 5\u001b[1;33m         \u001b[1;32mreturn\u001b[0m \u001b[0mN\u001b[0m\u001b[1;33m**\u001b[0m\u001b[1;36m2\u001b[0m\u001b[1;33m+\u001b[0m\u001b[0msumsq\u001b[0m\u001b[1;33m(\u001b[0m\u001b[0mN\u001b[0m\u001b[1;33m-\u001b[0m\u001b[1;36m1\u001b[0m\u001b[1;33m)\u001b[0m\u001b[1;33m\u001b[0m\u001b[1;33m\u001b[0m\u001b[0m\n\u001b[0m",
      "\u001b[1;32m<ipython-input-25-0346f5e8529f>\u001b[0m in \u001b[0;36msumsq\u001b[1;34m(N)\u001b[0m\n\u001b[0;32m      3\u001b[0m         \u001b[0mprint\u001b[0m\u001b[1;33m(\u001b[0m\u001b[1;34m\"Finish\"\u001b[0m\u001b[1;33m)\u001b[0m\u001b[1;33m\u001b[0m\u001b[1;33m\u001b[0m\u001b[0m\n\u001b[0;32m      4\u001b[0m     \u001b[1;32melse\u001b[0m\u001b[1;33m:\u001b[0m\u001b[1;33m\u001b[0m\u001b[1;33m\u001b[0m\u001b[0m\n\u001b[1;32m----> 5\u001b[1;33m         \u001b[1;32mreturn\u001b[0m \u001b[0mN\u001b[0m\u001b[1;33m**\u001b[0m\u001b[1;36m2\u001b[0m\u001b[1;33m+\u001b[0m\u001b[0msumsq\u001b[0m\u001b[1;33m(\u001b[0m\u001b[0mN\u001b[0m\u001b[1;33m-\u001b[0m\u001b[1;36m1\u001b[0m\u001b[1;33m)\u001b[0m\u001b[1;33m\u001b[0m\u001b[1;33m\u001b[0m\u001b[0m\n\u001b[0m",
      "\u001b[1;31mTypeError\u001b[0m: unsupported operand type(s) for +: 'int' and 'NoneType'"
     ]
    }
   ],
   "source": [
    "sumsq(3)"
   ]
  },
  {
   "cell_type": "code",
   "execution_count": 32,
   "metadata": {},
   "outputs": [],
   "source": [
    "def sumsq(N):\n",
    "    if N==1:\n",
    "        return(1)\n",
    "    \n",
    "    return N**2 + sumsq(N)"
   ]
  },
  {
   "cell_type": "code",
   "execution_count": 36,
   "metadata": {},
   "outputs": [],
   "source": [
    "def sum(n):\n",
    "    if n==1:\n",
    "        return 1\n",
    "    return n**2+ sum(n-1)"
   ]
  },
  {
   "cell_type": "markdown",
   "metadata": {},
   "source": [
    " ## Important Recursion"
   ]
  },
  {
   "cell_type": "code",
   "execution_count": 48,
   "metadata": {},
   "outputs": [],
   "source": [
    "def sumsqu(N):\n",
    "    if N==1:\n",
    "        return (1)\n",
    "    return (N**2 + sumsqu(N-1))"
   ]
  },
  {
   "cell_type": "code",
   "execution_count": 49,
   "metadata": {},
   "outputs": [
    {
     "data": {
      "text/plain": [
       "14"
      ]
     },
     "execution_count": 49,
     "metadata": {},
     "output_type": "execute_result"
    }
   ],
   "source": [
    "sumsqu(3)"
   ]
  },
  {
   "cell_type": "code",
   "execution_count": 62,
   "metadata": {},
   "outputs": [
    {
     "name": "stdout",
     "output_type": "stream",
     "text": [
      "Simple Interst = 300.0\n"
     ]
    }
   ],
   "source": [
    "p=100\n",
    "i=20\n",
    "t=15\n",
    "print(\"Simple Interst =\",p*i*t/100)"
   ]
  },
  {
   "cell_type": "code",
   "execution_count": 67,
   "metadata": {},
   "outputs": [
    {
     "data": {
      "text/plain": [
       "1440.7021574586358"
      ]
     },
     "execution_count": 67,
     "metadata": {},
     "output_type": "execute_result"
    }
   ],
   "source": [
    "p=100\n",
    "i=20\n",
    "t=15\n",
    "A=p*((1+(i/100))**t)-p\n",
    "A"
   ]
  },
  {
   "cell_type": "code",
   "execution_count": 72,
   "metadata": {},
   "outputs": [
    {
     "name": "stdout",
     "output_type": "stream",
     "text": [
      "800.0\n"
     ]
    }
   ],
   "source": [
    "p=100\n",
    "i=20\n",
    "for j in range(1,16):\n",
    "    ci=p*(1+i*j/100)\n",
    "    cii=ci+ci\n",
    "print(cii)"
   ]
  },
  {
   "cell_type": "code",
   "execution_count": 81,
   "metadata": {},
   "outputs": [
    {
     "name": "stdout",
     "output_type": "stream",
     "text": [
      "125 is divisible by 5\n"
     ]
    }
   ],
   "source": [
    "N=125\n",
    "if N%5!=0:\n",
    "    print(\"Not divisible by 5\")\n",
    "else:\n",
    "    print(\"%d is divisible by 5\"%N)"
   ]
  },
  {
   "cell_type": "code",
   "execution_count": 90,
   "metadata": {},
   "outputs": [
    {
     "name": "stdin",
     "output_type": "stream",
     "text": [
      "enter the Any Number you wish -123\n"
     ]
    },
    {
     "name": "stdout",
     "output_type": "stream",
     "text": [
      "Negetive Number -123\n"
     ]
    }
   ],
   "source": [
    "Number=int(input(\"enter the Any Number you wish\"))\n",
    "if Number >0:\n",
    "         print(\"%d is Positive Number\"%Number)\n",
    "elif Number==0:\n",
    "        print(\"%d is ZERO\"%Number)\n",
    "else:\n",
    "        print(\"Negetive Number %d\"%Number)"
   ]
  },
  {
   "cell_type": "code",
   "execution_count": 95,
   "metadata": {},
   "outputs": [
    {
     "name": "stdout",
     "output_type": "stream",
     "text": [
      "1\n",
      "3\n",
      "5\n",
      "7\n",
      "9\n",
      "11\n"
     ]
    }
   ],
   "source": [
    "n=10\n",
    "for i in range(1,n+2,2):\n",
    "    print(i)"
   ]
  },
  {
   "cell_type": "code",
   "execution_count": 100,
   "metadata": {},
   "outputs": [
    {
     "name": "stdin",
     "output_type": "stream",
     "text": [
      "How many odd numbers you want man? 10\n"
     ]
    },
    {
     "name": "stdout",
     "output_type": "stream",
     "text": [
      "[1, 3, 5, 7, 9, 11, 13, 15, 17, 19]\n"
     ]
    }
   ],
   "source": [
    "odd=[]\n",
    "k=int(input(\"How many odd numbers you want man?\"))\n",
    "for i in range(1,N,2):\n",
    "    odd.append(i)\n",
    "    if len(odd)==k:\n",
    "        break\n",
    "print(odd)\n"
   ]
  },
  {
   "cell_type": "code",
   "execution_count": 105,
   "metadata": {},
   "outputs": [
    {
     "name": "stdout",
     "output_type": "stream",
     "text": [
      "1 3 5 7 9 11 13 15 17 19 "
     ]
    }
   ],
   "source": [
    "i=1\n",
    "while i<20:\n",
    "    print(i,end=\" \")\n",
    "    i=i+2\n",
    "    "
   ]
  },
  {
   "cell_type": "code",
   "execution_count": 106,
   "metadata": {},
   "outputs": [
    {
     "name": "stdout",
     "output_type": "stream",
     "text": [
      "volume of cuboid  1200\n"
     ]
    }
   ],
   "source": [
    "a=10\n",
    "b=12\n",
    "c=10\n",
    "print(\"volume of cuboid \",a*b*c)"
   ]
  },
  {
   "cell_type": "code",
   "execution_count": 108,
   "metadata": {},
   "outputs": [
    {
     "name": "stdout",
     "output_type": "stream",
     "text": [
      "10 9 8 7 6 5 4 3 2 1 "
     ]
    }
   ],
   "source": [
    "i=10\n",
    "while i>0:\n",
    "    print(i,end=\" \")\n",
    "    i-=1"
   ]
  },
  {
   "cell_type": "markdown",
   "metadata": {},
   "source": [
    "### Alphabetical order in Dictionary\n"
   ]
  },
  {
   "cell_type": "code",
   "execution_count": 10,
   "metadata": {},
   "outputs": [
    {
     "name": "stdout",
     "output_type": "stream",
     "text": [
      "ZOm Akshay Yogesh\n"
     ]
    }
   ],
   "source": [
    "a=\"Akshay\"\n",
    "b=\"ZOm\"\n",
    "c=\"Yogesh\"\n",
    "if (a<b<c):\n",
    "    print(a,b,c)\n",
    "if (a>b>c):\n",
    "    print(c,b,a)\n",
    "else:\n",
    "    print(b,a,c)"
   ]
  },
  {
   "cell_type": "code",
   "execution_count": 16,
   "metadata": {},
   "outputs": [
    {
     "name": "stdin",
     "output_type": "stream",
     "text": [
      " a\n",
      " g\n",
      " pa\n"
     ]
    },
    {
     "name": "stdout",
     "output_type": "stream",
     "text": [
      "a g pa\n"
     ]
    }
   ],
   "source": [
    "a,b,c=input(),input(),input()\n",
    "if (a<b and a<c and b<c):\n",
    "    print(a,b,c)\n",
    "elif a<b and a<c and b>c:\n",
    "    print(a,c,b)\n",
    "elif b>a and c>a and b>c:\n",
    "    print(a,c,b)"
   ]
  },
  {
   "cell_type": "code",
   "execution_count": 39,
   "metadata": {},
   "outputs": [
    {
     "name": "stdin",
     "output_type": "stream",
     "text": [
      "Enter 3 Cities by , a,m,b\n"
     ]
    },
    {
     "name": "stdout",
     "output_type": "stream",
     "text": [
      "a\n",
      "b\n",
      "m\n"
     ]
    },
    {
     "data": {
      "text/plain": [
       "[]"
      ]
     },
     "execution_count": 39,
     "metadata": {},
     "output_type": "execute_result"
    }
   ],
   "source": [
    "A=input(\"Enter 3 Cities by ,\").split(\",\")\n",
    "[print(x) for x in sorted(A) if  print(x)]"
   ]
  },
  {
   "cell_type": "markdown",
   "metadata": {},
   "source": [
    "* Sorted can be used Across words to whole , separated string"
   ]
  },
  {
   "cell_type": "code",
   "execution_count": 43,
   "metadata": {},
   "outputs": [
    {
     "name": "stdin",
     "output_type": "stream",
     "text": [
      " a\n",
      " m\n",
      " b\n"
     ]
    },
    {
     "name": "stdout",
     "output_type": "stream",
     "text": [
      "a\n",
      "b\n",
      "m\n"
     ]
    }
   ],
   "source": [
    "A=input(),input(),input()\n",
    "for i in sorted(A):\n",
    "    print(i)"
   ]
  },
  {
   "cell_type": "code",
   "execution_count": 50,
   "metadata": {},
   "outputs": [
    {
     "name": "stdout",
     "output_type": "stream",
     "text": [
      "5\n",
      "4\n",
      "3\n",
      "2\n"
     ]
    }
   ],
   "source": [
    "for i in range (5,1,-1):\n",
    "    print(i)"
   ]
  },
  {
   "cell_type": "code",
   "execution_count": 60,
   "metadata": {},
   "outputs": [
    {
     "name": "stdin",
     "output_type": "stream",
     "text": [
      " 12\n"
     ]
    },
    {
     "name": "stdout",
     "output_type": "stream",
     "text": [
      "11 9 7 5 3 1 "
     ]
    }
   ],
   "source": [
    "a=int(input())\n",
    "if a%2==0:\n",
    "    a=a-1\n",
    "for i in range(a,0,-2):\n",
    "    print(i,end=\" \")"
   ]
  },
  {
   "cell_type": "code",
   "execution_count": 71,
   "metadata": {},
   "outputs": [
    {
     "name": "stdin",
     "output_type": "stream",
     "text": [
      " 20\n",
      "Enter the Numbers  5\n"
     ]
    },
    {
     "name": "stdout",
     "output_type": "stream",
     "text": [
      "[19, 17, 15, 13, 11]\n"
     ]
    }
   ],
   "source": [
    "a=int(input())\n",
    "if a%2==0:\n",
    "    a=a-1\n",
    "N=int(input(\"Enter the Numbers \"))\n",
    "l=[]\n",
    "for i in range (a,0,-2):\n",
    "    l.append(i)\n",
    "    if len(l)==N:\n",
    "        break\n",
    "print(l)"
   ]
  },
  {
   "cell_type": "code",
   "execution_count": 78,
   "metadata": {},
   "outputs": [
    {
     "name": "stdin",
     "output_type": "stream",
     "text": [
      "Enter how many odd you want Now ? 10\n"
     ]
    },
    {
     "name": "stdout",
     "output_type": "stream",
     "text": [
      "[19, 17, 15, 13, 11, 9, 7, 5, 3, 1]\n"
     ]
    }
   ],
   "source": [
    "j=int(input(\"Enter how many odd you want Now ?\"))\n",
    "a=[]\n",
    "for i in range(1,100,2):\n",
    "    a.append(i)\n",
    "    if len(a)==j:\n",
    "        print(a[::-1])"
   ]
  },
  {
   "cell_type": "code",
   "execution_count": 81,
   "metadata": {},
   "outputs": [
    {
     "name": "stdout",
     "output_type": "stream",
     "text": [
      "19,18,17,16,15,14,13,12,11,10,9,8,7,6,5,4,3,2,1,"
     ]
    }
   ],
   "source": [
    "n=10\n",
    "for i in range(2*n-1,0,-1):\n",
    "    print(i,end=\",\")"
   ]
  },
  {
   "cell_type": "code",
   "execution_count": 83,
   "metadata": {},
   "outputs": [],
   "source": [
    "# Sir please make a video on print reverse table 20 to 11 by using for loops"
   ]
  },
  {
   "cell_type": "code",
   "execution_count": 85,
   "metadata": {},
   "outputs": [
    {
     "name": "stdout",
     "output_type": "stream",
     "text": [
      "20,19,18,17,16,15,14,13,12,11,"
     ]
    }
   ],
   "source": [
    "for i in range(20,10,-1):\n",
    "    print(i,end=\",\")"
   ]
  },
  {
   "cell_type": "code",
   "execution_count": 95,
   "metadata": {},
   "outputs": [
    {
     "name": "stdout",
     "output_type": "stream",
     "text": [
      "20 40 60 80 100 120 140 160 180 200 19 38 57 76 95 114 133 152 171 190 18 36 54 72 90 108 126 144 162 180 17 34 51 68 85 102 119 136 153 170 16 32 48 64 80 96 112 128 144 160 15 30 45 60 75 90 105 120 135 150 14 28 42 56 70 84 98 112 126 140 13 26 39 52 65 78 91 104 117 130 12 24 36 48 60 72 84 96 108 120 11 22 33 44 55 66 77 88 99 110 "
     ]
    }
   ],
   "source": [
    "    for i in range(20,10,-1):\n",
    "            for j in range(1,11):\n",
    "                mul=i*j\n",
    "                print(mul,end=\" \")"
   ]
  },
  {
   "cell_type": "code",
   "execution_count": 97,
   "metadata": {},
   "outputs": [
    {
     "name": "stdin",
     "output_type": "stream",
     "text": [
      "give me any Number = 12\n",
      "give me any Number = 1\n",
      "give me any Number = 245\n",
      "give me any Number = 123\n"
     ]
    },
    {
     "name": "stdout",
     "output_type": "stream",
     "text": [
      "[1, 12, 123, 245]\n"
     ]
    }
   ],
   "source": [
    "a=[]\n",
    "for i in range(4):\n",
    "    a.append(int(input(\"give me any Number =\")))\n",
    "print(sorted(a))"
   ]
  },
  {
   "cell_type": "code",
   "execution_count": 106,
   "metadata": {},
   "outputs": [
    {
     "name": "stdin",
     "output_type": "stream",
     "text": [
      "comma separated numbers 12,1,2\n"
     ]
    },
    {
     "ename": "TypeError",
     "evalue": "int() argument must be a string, a bytes-like object or a number, not 'list'",
     "output_type": "error",
     "traceback": [
      "\u001b[1;31m---------------------------------------------------------------------------\u001b[0m",
      "\u001b[1;31mTypeError\u001b[0m                                 Traceback (most recent call last)",
      "\u001b[1;32m<ipython-input-106-61ffef7fbd2c>\u001b[0m in \u001b[0;36m<module>\u001b[1;34m\u001b[0m\n\u001b[1;32m----> 1\u001b[1;33m \u001b[0msorted\u001b[0m\u001b[1;33m(\u001b[0m\u001b[1;33m[\u001b[0m\u001b[0mint\u001b[0m\u001b[1;33m(\u001b[0m\u001b[0minput\u001b[0m\u001b[1;33m(\u001b[0m\u001b[1;34m\"comma separated numbers\"\u001b[0m\u001b[1;33m)\u001b[0m\u001b[1;33m.\u001b[0m\u001b[0msplit\u001b[0m\u001b[1;33m(\u001b[0m\u001b[1;34m\",\"\u001b[0m\u001b[1;33m)\u001b[0m\u001b[1;33m)\u001b[0m\u001b[1;33m]\u001b[0m\u001b[1;33m)\u001b[0m\u001b[1;33m\u001b[0m\u001b[1;33m\u001b[0m\u001b[0m\n\u001b[0m",
      "\u001b[1;31mTypeError\u001b[0m: int() argument must be a string, a bytes-like object or a number, not 'list'"
     ]
    }
   ],
   "source": [
    "sorted([int(input(\"comma separated numbers\").split(\",\"))])"
   ]
  },
  {
   "cell_type": "code",
   "execution_count": 109,
   "metadata": {},
   "outputs": [
    {
     "name": "stdin",
     "output_type": "stream",
     "text": [
      " 12,1,3,2\n"
     ]
    },
    {
     "name": "stdout",
     "output_type": "stream",
     "text": [
      "['1', '12', '2', '3']\n"
     ]
    }
   ],
   "source": [
    "a=(input()).split(\",\")\n",
    "print(sorted(a))\n"
   ]
  },
  {
   "cell_type": "code",
   "execution_count": null,
   "metadata": {},
   "outputs": [],
   "source": [
    "A=input(\"Enter 3 Cities by ,\").split(\",\")"
   ]
  },
  {
   "cell_type": "code",
   "execution_count": 110,
   "metadata": {},
   "outputs": [
    {
     "name": "stdout",
     "output_type": "stream",
     "text": [
      "[1, 2, 12]\n"
     ]
    }
   ],
   "source": [
    "a=[12,1,2]\n",
    "print(sorted(a))"
   ]
  },
  {
   "cell_type": "markdown",
   "metadata": {},
   "source": [
    "* Difference between Sort[LIST] and assen VARIABLE then it will work Sorted"
   ]
  },
  {
   "cell_type": "markdown",
   "metadata": {},
   "source": [
    " In sort() function it will change whole function"
   ]
  },
  {
   "cell_type": "code",
   "execution_count": 9,
   "metadata": {},
   "outputs": [
    {
     "name": "stdout",
     "output_type": "stream",
     "text": [
      "[1, 2, 12]\n",
      "[12, 2, 1]\n"
     ]
    }
   ],
   "source": [
    "A=[12,1,2]\n",
    "A.sort()\n",
    "print(A)\n",
    "A.sort( reverse=True)\n",
    "print(A)"
   ]
  },
  {
   "cell_type": "markdown",
   "metadata": {},
   "source": [
    " Here we can observe that in Sorted Original Function does not change"
   ]
  },
  {
   "cell_type": "code",
   "execution_count": 5,
   "metadata": {},
   "outputs": [
    {
     "name": "stdout",
     "output_type": "stream",
     "text": [
      "[12, 13, 112, 1000]\n",
      "See there is no change [112, 12, 13, 1000]\n"
     ]
    }
   ],
   "source": [
    "b=[112,12,13,1000]\n",
    "print(sorted(b))\n",
    "print(\"See there is no change\",b)"
   ]
  },
  {
   "cell_type": "code",
   "execution_count": 10,
   "metadata": {},
   "outputs": [
    {
     "name": "stdout",
     "output_type": "stream",
     "text": [
      "['e', 'q', 'r', 't', 'w', 'y']\n"
     ]
    }
   ],
   "source": [
    "x = {'q':1, 'w':2, 'e':3, 'r':4, 't':5, 'y':6} \n",
    "print(sorted(x))"
   ]
  },
  {
   "cell_type": "code",
   "execution_count": 19,
   "metadata": {},
   "outputs": [
    {
     "name": "stdin",
     "output_type": "stream",
     "text": [
      "separated by commas 1,2,12,10\n"
     ]
    },
    {
     "name": "stdout",
     "output_type": "stream",
     "text": [
      "['1', '10', '12', '2']\n"
     ]
    }
   ],
   "source": [
    "a=input(\"separated by commas\").split(\",\")\n",
    "print(sorted(a))"
   ]
  },
  {
   "cell_type": "markdown",
   "metadata": {},
   "source": [
    "you can not convert all string to integer in list in One Go "
   ]
  },
  {
   "cell_type": "code",
   "execution_count": 22,
   "metadata": {},
   "outputs": [
    {
     "name": "stdout",
     "output_type": "stream",
     "text": [
      "[1, 2, 10, 12]\n"
     ]
    }
   ],
   "source": [
    "A=[]\n",
    "for i in a:\n",
    "    A.append(int(i))\n",
    "print(sorted(A))"
   ]
  },
  {
   "cell_type": "code",
   "execution_count": 31,
   "metadata": {},
   "outputs": [
    {
     "name": "stdout",
     "output_type": "stream",
     "text": [
      "[1, 10, 12, 2]\n",
      "[1, 2, 10, 12]\n"
     ]
    }
   ],
   "source": [
    "l=[int(i) for i in a ]\n",
    "print(l)\n",
    "print(sorted(l))"
   ]
  },
  {
   "cell_type": "code",
   "execution_count": 34,
   "metadata": {},
   "outputs": [
    {
     "name": "stdout",
     "output_type": "stream",
     "text": [
      "15\n"
     ]
    }
   ],
   "source": [
    "n=5\n",
    "j=0\n",
    "for i in range(1,n+1):\n",
    "    j=j+i\n",
    "print(j)"
   ]
  },
  {
   "cell_type": "code",
   "execution_count": 35,
   "metadata": {},
   "outputs": [],
   "source": [
    "N=0\n",
    "def sumN(n):\n",
    "    global N\n",
    "    N=n+N\n",
    "    sumnN(n)"
   ]
  },
  {
   "cell_type": "code",
   "execution_count": 43,
   "metadata": {},
   "outputs": [
    {
     "name": "stdout",
     "output_type": "stream",
     "text": [
      "good evening Akshay\n"
     ]
    }
   ],
   "source": [
    "def good(name):\n",
    "    print(\"good evening\",name)\n",
    "good(\"Akshay\")"
   ]
  },
  {
   "cell_type": "code",
   "execution_count": 44,
   "metadata": {},
   "outputs": [
    {
     "data": {
      "text/plain": [
       "15"
      ]
     },
     "execution_count": 44,
     "metadata": {},
     "output_type": "execute_result"
    }
   ],
   "source": [
    "def sumN(n):\n",
    "    if n==1:\n",
    "        return 1\n",
    "    return sumN(n-1)+n\n",
    "sumN(5)"
   ]
  },
  {
   "cell_type": "code",
   "execution_count": 47,
   "metadata": {},
   "outputs": [
    {
     "data": {
      "text/plain": [
       "-13"
      ]
     },
     "execution_count": 47,
     "metadata": {},
     "output_type": "execute_result"
    }
   ],
   "source": [
    "def sub(n):\n",
    "    if n==1:\n",
    "        return 1\n",
    "    return sub(n-1)-n\n",
    "sub(5)"
   ]
  },
  {
   "cell_type": "code",
   "execution_count": 53,
   "metadata": {},
   "outputs": [
    {
     "name": "stdin",
     "output_type": "stream",
     "text": [
      "First N even numbers: 10\n"
     ]
    },
    {
     "name": "stdout",
     "output_type": "stream",
     "text": [
      "[2, 4, 6, 8, 10, 12, 14, 16, 18, 20]\n"
     ]
    }
   ],
   "source": [
    "lmt=int(input(\"First N even numbers:\"))\n",
    "a=[]\n",
    "for i in range(2,100,2):\n",
    "    a.append(i)\n",
    "    if len(a)==lmt:\n",
    "        break\n",
    "print(a)"
   ]
  },
  {
   "cell_type": "code",
   "execution_count": 62,
   "metadata": {},
   "outputs": [
    {
     "name": "stdout",
     "output_type": "stream",
     "text": [
      "2\n",
      "None\n",
      "None\n"
     ]
    }
   ],
   "source": [
    "def lmt(N):\n",
    "    if N==2:\n",
    "        return 2\n",
    "    return print(lmt(N-1))\n",
    "lmt(5)"
   ]
  },
  {
   "cell_type": "code",
   "execution_count": null,
   "metadata": {},
   "outputs": [],
   "source": []
  }
 ],
 "metadata": {
  "kernelspec": {
   "display_name": "Python 3",
   "language": "python",
   "name": "python3"
  },
  "language_info": {
   "codemirror_mode": {
    "name": "ipython",
    "version": 3
   },
   "file_extension": ".py",
   "mimetype": "text/x-python",
   "name": "python",
   "nbconvert_exporter": "python",
   "pygments_lexer": "ipython3",
   "version": "3.8.5"
  }
 },
 "nbformat": 4,
 "nbformat_minor": 4
}
